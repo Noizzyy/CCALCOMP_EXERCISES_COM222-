{
  "cells": [
    {
      "cell_type": "markdown",
      "metadata": {
        "id": "3-prKGbfwFRd"
      },
      "source": [
        "# Exercise 1"
      ]
    },
    {
      "cell_type": "markdown",
      "metadata": {
        "id": "kBW-_z9HwFRf"
      },
      "source": [
        "Please follow the instructions in each number. Do not remove or modify the pre-defined code!"
      ]
    },
    {
      "cell_type": "code",
      "execution_count": 10,
      "metadata": {
        "id": "ABAdD_ngwFRg"
      },
      "outputs": [],
      "source": [
        "# Add a vertex to the set of vertices and the graph\n",
        "def add_vertex(v):\n",
        "  global graph\n",
        "  global vertices_no\n",
        "  global vertices\n",
        "  if v in vertices:\n",
        "    print(\"Vertex \", v, \" already exists\")\n",
        "  else:\n",
        "    vertices_no = vertices_no + 1\n",
        "    vertices.append(v)\n",
        "    if vertices_no > 1:\n",
        "        for vertex in graph:\n",
        "            vertex.append(0)\n",
        "    temp = []\n",
        "    for i in range(vertices_no):\n",
        "        temp.append(0)\n",
        "    graph.append(temp)\n",
        "\n",
        "# Add an edge between vertex v1 and v2 with edge weight e\n",
        "def add_edge(v1, v2, e):\n",
        "    global graph\n",
        "    global vertices_no\n",
        "    global vertices\n",
        "    # Check if vertex v1 is a valid vertex\n",
        "    if v1 not in vertices:\n",
        "        print(\"Vertex \", v1, \" does not exist.\")\n",
        "    # Check if vertex v1 is a valid vertex\n",
        "    elif v2 not in vertices:\n",
        "        print(\"Vertex \", v2, \" does not exist.\")\n",
        "    # Since this code is not restricted to a directed or\n",
        "    # an undirected graph, an edge between v1 v2 does not\n",
        "    # imply that an edge exists between v2 and v1\n",
        "    else:\n",
        "        index1 = vertices.index(v1)\n",
        "        index2 = vertices.index(v2)\n",
        "        graph[index1][index2] = e\n",
        "\n",
        "# Print the graph\n",
        "def print_graph():\n",
        "  global graph\n",
        "  global vertices_no\n",
        "  for i in range(vertices_no):\n",
        "    for j in range(vertices_no):\n",
        "      if graph[i][j] != 0:\n",
        "        print(vertices[i], \" -> \", vertices[j],\n",
        "              \" edge weight: \", graph[i][j])"
      ]
    },
    {
      "cell_type": "code",
      "execution_count": 11,
      "metadata": {
        "id": "912w9tR0wFRh"
      },
      "outputs": [],
      "source": [
        "# stores the vertices in the graph\n",
        "vertices = []\n",
        "# stores the number of vertices in the graph\n",
        "vertices_no = 0\n",
        "graph = []"
      ]
    },
    {
      "cell_type": "markdown",
      "metadata": {
        "id": "lzkib3wYwFRh"
      },
      "source": [
        "<img src=\"https://github.com/robitussin/CCALCOMP_EXERCISES/blob/main/images/directed%20graph2.png?raw=true\"/>"
      ]
    },
    {
      "cell_type": "markdown",
      "metadata": {
        "id": "Qfh-2gbPwFRi"
      },
      "source": [
        "1. Print the edges and vertices of the graph in set representation. (`25 points`)"
      ]
    },
    {
      "cell_type": "code",
      "execution_count": 13,
      "metadata": {
        "id": "FSymqoxmwFRi",
        "outputId": "c26e6de6-4828-489c-fad3-9400404ecfa4",
        "colab": {
          "base_uri": "https://localhost:8080/"
        }
      },
      "outputs": [
        {
          "output_type": "stream",
          "name": "stdout",
          "text": [
            "['E', 'A', 'D', 'C', 'B']\n",
            "[('E', 'A'), ('A', 'D'), ('A', 'C'), ('B', 'A'), ('C', 'B'), ('C', 'D')]\n"
          ]
        }
      ],
      "source": [
        "# put your answer here\n",
        "# put your answer here\n",
        "add_vertex('E')\n",
        "add_vertex('A')\n",
        "add_vertex('D')\n",
        "add_vertex('C')\n",
        "add_vertex('B')\n",
        "\n",
        "print(vertices)\n",
        "print([('E', 'A'), ('A', 'D'), ('A', 'C'), ('B', 'A'), ('C', 'B'), ('C', 'D')])"
      ]
    },
    {
      "cell_type": "markdown",
      "metadata": {
        "id": "NHt6QEFzwFRi"
      },
      "source": [
        "2. Implement the weighted graph in python code. Use the print_graph() function. (`25 points`)"
      ]
    },
    {
      "cell_type": "code",
      "execution_count": 15,
      "metadata": {
        "id": "fcYP9VF9wFRj",
        "outputId": "0991c7ee-ffac-478b-aced-d400b83e7e19",
        "colab": {
          "base_uri": "https://localhost:8080/"
        }
      },
      "outputs": [
        {
          "output_type": "stream",
          "name": "stdout",
          "text": [
            "E  ->  A  edge weight:  7\n",
            "A  ->  D  edge weight:  60\n",
            "A  ->  C  edge weight:  12\n",
            "C  ->  D  edge weight:  32\n",
            "C  ->  B  edge weight:  20\n",
            "B  ->  A  edge weight:  10\n"
          ]
        }
      ],
      "source": [
        "# put your answer here\n",
        "# put your answer here\n",
        "add_edge('E', 'A', 7)\n",
        "add_edge('A', 'D', 60)\n",
        "add_edge('A', 'C', 12)\n",
        "add_edge('B', 'A', 10)\n",
        "add_edge('C', 'B', 20)\n",
        "add_edge('C', 'D', 32)\n",
        "\n",
        "print_graph()"
      ]
    },
    {
      "cell_type": "markdown",
      "metadata": {
        "id": "kD-6afNTwFRj"
      },
      "source": [
        "3. You decided to go on a trip around the philippines. Being a computer scientist, you wanted to find the optimal route that would cost the least amount of money to travel all four cities. Find the route and print the total cost of the most optimal route. (`50 points`)"
      ]
    },
    {
      "cell_type": "markdown",
      "metadata": {
        "id": "cBHIHSIewFRj"
      },
      "source": [
        "<img src=\"https://github.com/robitussin/CCALCOMP_EXERCISES/blob/main/images/trip.png?raw=true\" width=\"500\" height=\"600\"/>"
      ]
    },
    {
      "cell_type": "code",
      "execution_count": 16,
      "metadata": {
        "id": "yNwmvIXnwFRj",
        "outputId": "ec98c6b2-4158-409d-999a-05659260ddcc",
        "colab": {
          "base_uri": "https://localhost:8080/"
        }
      },
      "outputs": [
        {
          "output_type": "stream",
          "name": "stdout",
          "text": [
            "Optimal Route:\n",
            "Manila -> Tacloban, Price: 1000\n",
            "Tacloban -> Puerto Princesa, Price: 2500\n",
            "Puerto Princesa -> Davao, Price: 3000\n",
            "Davao -> Manila, Price: 5000\n",
            "Total Cost: 11500\n"
          ]
        }
      ],
      "source": [
        "# put your answer here\n",
        "# put your answer here\n",
        "import heapq\n",
        "\n",
        "class Graph:\n",
        "    def __init__(self):\n",
        "        self.vertices = {}\n",
        "\n",
        "    def add_vertex(self, vertex):\n",
        "        self.vertices[vertex] = {}\n",
        "\n",
        "    def add_edge(self, start, end, weight):\n",
        "        self.vertices[start][end] = weight\n",
        "        self.vertices[end][start] = weight\n",
        "\n",
        "    def dijkstra(self, start):\n",
        "        visited = set()\n",
        "        distances = {vertex: float('inf') for vertex in self.vertices}\n",
        "        distances[start] = 0\n",
        "        priority_queue = [(0, start)]\n",
        "\n",
        "        while priority_queue:\n",
        "            current_distance, current_vertex = heapq.heappop(priority_queue)\n",
        "\n",
        "            if current_vertex not in visited:\n",
        "                visited.add(current_vertex)\n",
        "\n",
        "                for neighbor, weight in self.vertices[current_vertex].items():\n",
        "                    distance = current_distance + weight\n",
        "\n",
        "                    if distance < distances[neighbor]:\n",
        "                        distances[neighbor] = distance\n",
        "                        heapq.heappush(priority_queue, (distance, neighbor))\n",
        "\n",
        "        return distances\n",
        "\n",
        "def find_optimal_route(graph):\n",
        "    start_vertex = 'Manila'\n",
        "    distances = graph.dijkstra(start_vertex)\n",
        "\n",
        "    total_cost = 0\n",
        "    optimal_route = []\n",
        "    current_vertex = start_vertex\n",
        "    remaining_cities = set(graph.vertices.keys())\n",
        "\n",
        "    while remaining_cities:\n",
        "        next_vertex = min(remaining_cities, key=lambda x: distances[x])\n",
        "        if next_vertex == start_vertex:\n",
        "            # Skip going back to the starting point\n",
        "            remaining_cities.remove(next_vertex)\n",
        "            continue\n",
        "        optimal_route.append((current_vertex, next_vertex, distances[next_vertex]))\n",
        "        total_cost += distances[next_vertex]\n",
        "        remaining_cities.remove(next_vertex)\n",
        "        current_vertex = next_vertex\n",
        "\n",
        "    # Add cost of returning to starting point\n",
        "    total_cost += graph.vertices[optimal_route[-1][1]][start_vertex]\n",
        "    optimal_route.append((optimal_route[-1][1], start_vertex, graph.vertices[optimal_route[-1][1]][start_vertex]))\n",
        "\n",
        "    return optimal_route, total_cost\n",
        "\n",
        "# Create graph\n",
        "g = Graph()\n",
        "g.add_vertex('Manila')\n",
        "g.add_vertex('Puerto Princesa')\n",
        "g.add_vertex('Tacloban')\n",
        "g.add_vertex('Davao')\n",
        "\n",
        "g.add_edge('Manila', 'Puerto Princesa', 8000)\n",
        "g.add_edge('Manila', 'Davao', 5000)\n",
        "g.add_edge('Manila', 'Tacloban', 1000)\n",
        "g.add_edge('Puerto Princesa', 'Tacloban', 1500)\n",
        "g.add_edge('Puerto Princesa', 'Davao', 4000)\n",
        "g.add_edge('Tacloban', 'Davao', 2000)\n",
        "\n",
        "# Find optimal route\n",
        "optimal_route, total_cost = find_optimal_route(g)\n",
        "print(\"Optimal Route:\")\n",
        "for start, end, distance in optimal_route:\n",
        "    print(f\"{start} -> {end}, Price: {distance}\")\n",
        "print(\"Total Cost:\", total_cost)"
      ]
    }
  ],
  "metadata": {
    "kernelspec": {
      "display_name": "base",
      "language": "python",
      "name": "python3"
    },
    "language_info": {
      "codemirror_mode": {
        "name": "ipython",
        "version": 3
      },
      "file_extension": ".py",
      "mimetype": "text/x-python",
      "name": "python",
      "nbconvert_exporter": "python",
      "pygments_lexer": "ipython3",
      "version": "3.9.6"
    },
    "colab": {
      "provenance": []
    }
  },
  "nbformat": 4,
  "nbformat_minor": 0
}