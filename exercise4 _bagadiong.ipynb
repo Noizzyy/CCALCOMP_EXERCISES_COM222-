{
  "cells": [
    {
      "cell_type": "markdown",
      "metadata": {
        "id": "view-in-github",
        "colab_type": "text"
      },
      "source": [
        "<a href=\"https://colab.research.google.com/github/Gkcoli/CCALCOMP_EXERCISES_COM223/blob/main/exercise4.ipynb\" target=\"_parent\"><img src=\"https://colab.research.google.com/assets/colab-badge.svg\" alt=\"Open In Colab\"/></a>"
      ]
    },
    {
      "cell_type": "markdown",
      "metadata": {
        "id": "cPRRjBOhHHMh"
      },
      "source": [
        "# Exercise 4\n",
        "\n",
        "Please follow the instructions in each number."
      ]
    },
    {
      "cell_type": "markdown",
      "metadata": {
        "id": "zvDTNWRFHHMk"
      },
      "source": [
        "### Activity Selection Problem\n",
        "\n",
        "Given a set of activities, along with the starting and finishing time of each activity, find the maximum number of activities performed by a single person assuming that a person can only work on a single activity at a time.\n",
        "\n",
        "For example,\n",
        "\n",
        "Input: Following set of activities (1, 4), (3, 5), (0, 6), (5, 7), (3, 8), (5, 9), (6, 10), (8, 11), (8, 12), (2, 13), (12, 14)  \n",
        "\n",
        "Output: (1, 4), (5, 7), (8, 11), (12, 14)"
      ]
    },
    {
      "cell_type": "markdown",
      "metadata": {
        "id": "ff7w7YLGHHMl"
      },
      "source": [
        "## Tasks"
      ]
    },
    {
      "cell_type": "markdown",
      "metadata": {
        "id": "0QLHdoNSHHMl"
      },
      "source": [
        "1. Write a program using a recursive greedy approach to get the maximum number of activities (`50 points`)"
      ]
    },
    {
      "cell_type": "code",
      "execution_count": 9,
      "metadata": {
        "vscode": {
          "languageId": "plaintext"
        },
        "id": "Xe02cHvAHHMl",
        "colab": {
          "base_uri": "https://localhost:8080/"
        },
        "outputId": "824aba4a-2b4e-4acb-b2e6-d65eb56a3203"
      },
      "outputs": [
        {
          "output_type": "stream",
          "name": "stdout",
          "text": [
            "Recursive approach result: [(6, 10), (88, 11), (62, 12), (21, 13), (123, 14), (32, 53)]\n"
          ]
        }
      ],
      "source": [
        "def recursive_activity_selector(activities, start_index, end_index):\n",
        "    # Base case: No more activities left\n",
        "    if start_index >= end_index:\n",
        "        return []\n",
        "\n",
        "    # Find the first activity in the sorted order\n",
        "    i = start_index + 1\n",
        "    while i < end_index and activities[i][0] < activities[start_index][1]:\n",
        "        i += 1\n",
        "\n",
        "    if i >= end_index:\n",
        "        return []\n",
        "\n",
        "    # Include the current activity and find the next set of activities\n",
        "    return [activities[start_index]] + recursive_activity_selector(activities, i, end_index)\n",
        "\n",
        "def max_activities_recursive(activities):\n",
        "    # Sort activities based on their finishing times\n",
        "    activities = sorted(activities, key=lambda x: x[1])\n",
        "    return recursive_activity_selector(activities, 0, len(activities))\n",
        "\n",
        "# Example usage\n",
        "activities = [(62, 12), (32, 53), (0, 31), (55, 74), (38, 89), (57, 92), (6, 10), (88, 11), (8, 12), (21, 13), (123, 14)]\n",
        "print(\"Recursive approach result:\", max_activities_recursive(activities))\n",
        "\n"
      ]
    },
    {
      "cell_type": "markdown",
      "metadata": {
        "id": "eZe27u4LHHMn"
      },
      "source": [
        "2. Write a program using a iterative greedy approach to get the maximun number of activities (`50 points`)"
      ]
    },
    {
      "cell_type": "code",
      "execution_count": 11,
      "metadata": {
        "vscode": {
          "languageId": "plaintext"
        },
        "id": "UrSZyQwEHHMn",
        "colab": {
          "base_uri": "https://localhost:8080/"
        },
        "outputId": "12c07c36-f1e1-4cee-fc1a-074811790b50"
      },
      "outputs": [
        {
          "output_type": "stream",
          "name": "stdout",
          "text": [
            "Iterative approach result: [(34, 8), (8, 12), (18, 19), (93, 22), (33, 51)]\n"
          ]
        }
      ],
      "source": [
        "def max_activities_iterative(activities):\n",
        "    # Sort activities based on their finishing times\n",
        "    activities = sorted(activities, key=lambda x: x[1])\n",
        "\n",
        "    # The first activity always gets selected\n",
        "    selected_activities = [activities[0]]\n",
        "\n",
        "    # Consider the rest of the activities\n",
        "    for i in range(1, len(activities)):\n",
        "        if activities[i][0] >= selected_activities[-1][1]:\n",
        "            selected_activities.append(activities[i])\n",
        "\n",
        "    return selected_activities\n",
        "\n",
        "# Example usage\n",
        "activities = [(11, 44), (33, 51), (93, 22), (21, 73), (34, 8), (5, 94), (6, 10), (8, 112), (8, 12), (2, 13), (18, 19)]\n",
        "print(\"Iterative approach result:\", max_activities_iterative(activities))\n",
        "\n"
      ]
    }
  ],
  "metadata": {
    "colab": {
      "provenance": [],
      "include_colab_link": true
    },
    "kernelspec": {
      "display_name": "base",
      "language": "python",
      "name": "python3"
    },
    "language_info": {
      "codemirror_mode": {
        "name": "ipython",
        "version": 3
      },
      "file_extension": ".py",
      "mimetype": "text/x-python",
      "name": "python",
      "nbconvert_exporter": "python",
      "pygments_lexer": "ipython3",
      "version": "3.9.6"
    }
  },
  "nbformat": 4,
  "nbformat_minor": 0
}